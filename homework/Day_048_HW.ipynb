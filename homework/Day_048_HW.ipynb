{
 "cells": [
  {
   "cell_type": "code",
   "execution_count": 1,
   "metadata": {},
   "outputs": [],
   "source": [
    "import numpy as np \n",
    "import pandas as pd"
   ]
  },
  {
   "cell_type": "code",
   "execution_count": 2,
   "metadata": {},
   "outputs": [],
   "source": [
    "# read csv (comma separated value) into data\n",
    "data_path = \"data/\"\n",
    "\n",
    "# train = pd.read_csv('data/train.csv')\n",
    "train = pd.read_csv(data_path + 'dslsl-train.csv', header=None)\n",
    "train_labels = pd.read_csv(data_path + 'dslsl-train-labels.csv', header=None)\n",
    "test = pd.read_csv(data_path + 'dslsl-test.csv', header=None)"
   ]
  },
  {
   "cell_type": "code",
   "execution_count": 3,
   "metadata": {},
   "outputs": [
    {
     "name": "stdout",
     "output_type": "stream",
     "text": [
      "(1000, 40) (1000, 1) (9000, 40)\n"
     ]
    }
   ],
   "source": [
    "print(train.shape, train_labels.shape, test.shape)"
   ]
  },
  {
   "cell_type": "code",
   "execution_count": 4,
   "metadata": {},
   "outputs": [],
   "source": [
    "from sklearn import metrics\n",
    "from sklearn.model_selection import train_test_split, KFold, GridSearchCV\n",
    "from sklearn.ensemble import GradientBoostingClassifier"
   ]
  },
  {
   "cell_type": "code",
   "execution_count": 5,
   "metadata": {},
   "outputs": [
    {
     "name": "stdout",
     "output_type": "stream",
     "text": [
      "(1000,)\n"
     ]
    }
   ],
   "source": [
    "x, y = train, np.ravel(train_labels)\n",
    "x_train, x_test, y_train, y_test = train_test_split(x, y, test_size=0.3)\n",
    "print(y.shape)"
   ]
  },
  {
   "cell_type": "code",
   "execution_count": 6,
   "metadata": {},
   "outputs": [
    {
     "name": "stdout",
     "output_type": "stream",
     "text": [
      "0.8633333333333333\n"
     ]
    }
   ],
   "source": [
    "# 建立模型\n",
    "clf = GradientBoostingClassifier(random_state=7)\n",
    "\n",
    "clf.fit(x_train, y_train)\n",
    "y_pred = clf.predict(x_test)\n",
    "print(metrics.accuracy_score(y_test, y_pred))"
   ]
  },
  {
   "cell_type": "code",
   "execution_count": 7,
   "metadata": {},
   "outputs": [
    {
     "name": "stdout",
     "output_type": "stream",
     "text": [
      "(9000, 2)\n",
      "   Solution  Id\n",
      "0         1   1\n",
      "1         0   2\n",
      "2         0   3\n",
      "3         0   4\n",
      "4         0   5\n"
     ]
    }
   ],
   "source": [
    "submit = pd.DataFrame(clf.predict(test), columns=[\"Solution\"])\n",
    "submit['Id'] = np.arange(1, submit.shape[0] + 1)\n",
    "print(submit.shape)\n",
    "print(submit.head())\n",
    "submit.to_csv('./outputs/dslsl-submission.csv', index=False)"
   ]
  }
 ],
 "metadata": {
  "kernelspec": {
   "display_name": "Python 3",
   "language": "python",
   "name": "python3"
  },
  "language_info": {
   "codemirror_mode": {
    "name": "ipython",
    "version": 3
   },
   "file_extension": ".py",
   "mimetype": "text/x-python",
   "name": "python",
   "nbconvert_exporter": "python",
   "pygments_lexer": "ipython3",
   "version": "3.7.3"
  }
 },
 "nbformat": 4,
 "nbformat_minor": 2
}
